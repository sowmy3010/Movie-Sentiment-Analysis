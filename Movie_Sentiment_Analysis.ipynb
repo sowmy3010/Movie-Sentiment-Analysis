{
  "cells": [
    {
      "cell_type": "markdown",
      "metadata": {
        "id": "TRhQhMlkJXk-"
      },
      "source": [
        "\n",
        "**Multifaceted Movie Rating Prediction: A Comprehensive Analysis of Multiple Regression and Sentiment Analysis**\n",
        "\n"
      ]
    },
    {
      "cell_type": "code",
      "execution_count": null,
      "metadata": {
        "id": "7LX823ecJWLL",
        "colab": {
          "base_uri": "https://localhost:8080/"
        },
        "outputId": "dd61d105-e83b-4257-8ec1-cdcf2bce1424"
      },
      "outputs": [
        {
          "output_type": "stream",
          "name": "stdout",
          "text": [
            "Mounted at /content/drive\n"
          ]
        }
      ],
      "source": [
        "from google.colab import drive\n",
        "drive.mount('/content/drive')"
      ]
    },
    {
      "cell_type": "code",
      "execution_count": null,
      "metadata": {
        "id": "J0A_Rx_rJt45"
      },
      "outputs": [],
      "source": [
        "file_path = '/content/drive/My Drive/Movie-Sentiment-Analysis/Movie_dataset.csv'"
      ]
    },
    {
      "cell_type": "code",
      "execution_count": null,
      "metadata": {
        "colab": {
          "base_uri": "https://localhost:8080/",
          "height": 597
        },
        "id": "6gLP13a3KHj7",
        "outputId": "9f58e67a-3ea1-4498-ebea-0c2bd5d34db4"
      },
      "outputs": [
        {
          "output_type": "execute_result",
          "data": {
            "text/plain": [
              "                        Movie_Name  Year  Budget                      Genre  \\\n",
              "0                         Enthiran  2010   132.0            Action | Sci-Fi   \n",
              "1                           Kabali  2016   137.0     Action | Crime | Drama   \n",
              "2                           Mersal  2017   132.0          Action | Thriller   \n",
              "3                                I  2015   174.0  Action | Drama | Thriller   \n",
              "4                            Theri  2016    78.0  Action | Drama | Thriller   \n",
              "..                             ...   ...     ...                        ...   \n",
              "165                  Moodar Koodam  2013     8.0                     Comedy   \n",
              "166  Varuthapadatha Valibar Sangam  2013     6.0                     Comedy   \n",
              "167                 Thanga Meengal  2013     5.0                      Drama   \n",
              "168        Aadhalal Kadhal Seiveer  2013     4.0                    Romance   \n",
              "169                         Maryan  2013     3.0                  Adventure   \n",
              "\n",
              "                                                Review  Nominations  Awards  \\\n",
              "0    Best apocalyptic sci-fi-romcom-melodrama-dance...           38      25   \n",
              "1      Emotional drama of the life story of a gangster           31      15   \n",
              "2    A visually beautiful and stylish entertainer w...           58      36   \n",
              "3    A beauty and the beast story that is driven by...           15       8   \n",
              "4    A pakka mass entertainer, same old revenge sto...           25      11   \n",
              "..                                                 ...          ...     ...   \n",
              "165  Its a wonderful mixture of dark humor , satire...            5       3   \n",
              "166  An out-and-out comedy entertainer that deliver...           13       5   \n",
              "167           Touted to be an emotionally tender story           19      14   \n",
              "168  A reality based movie that is must watch for p...            0       0   \n",
              "169  A serious drama thriller with a strong and sou...           19       4   \n",
              "\n",
              "     RunTime  Rating  \n",
              "0        177     7.1  \n",
              "1        152     6.2  \n",
              "2        163     7.2  \n",
              "3        196     7.4  \n",
              "4        150     7.1  \n",
              "..       ...     ...  \n",
              "165      155     7.7  \n",
              "166      158     6.7  \n",
              "167      138     7.9  \n",
              "168      101     7.2  \n",
              "169      133     7.1  \n",
              "\n",
              "[170 rows x 9 columns]"
            ],
            "text/html": [
              "\n",
              "  <div id=\"df-5ae8106b-203d-4ea6-a8c0-8427f819e55e\" class=\"colab-df-container\">\n",
              "    <div>\n",
              "<style scoped>\n",
              "    .dataframe tbody tr th:only-of-type {\n",
              "        vertical-align: middle;\n",
              "    }\n",
              "\n",
              "    .dataframe tbody tr th {\n",
              "        vertical-align: top;\n",
              "    }\n",
              "\n",
              "    .dataframe thead th {\n",
              "        text-align: right;\n",
              "    }\n",
              "</style>\n",
              "<table border=\"1\" class=\"dataframe\">\n",
              "  <thead>\n",
              "    <tr style=\"text-align: right;\">\n",
              "      <th></th>\n",
              "      <th>Movie_Name</th>\n",
              "      <th>Year</th>\n",
              "      <th>Budget</th>\n",
              "      <th>Genre</th>\n",
              "      <th>Review</th>\n",
              "      <th>Nominations</th>\n",
              "      <th>Awards</th>\n",
              "      <th>RunTime</th>\n",
              "      <th>Rating</th>\n",
              "    </tr>\n",
              "  </thead>\n",
              "  <tbody>\n",
              "    <tr>\n",
              "      <th>0</th>\n",
              "      <td>Enthiran</td>\n",
              "      <td>2010</td>\n",
              "      <td>132.0</td>\n",
              "      <td>Action | Sci-Fi</td>\n",
              "      <td>Best apocalyptic sci-fi-romcom-melodrama-dance...</td>\n",
              "      <td>38</td>\n",
              "      <td>25</td>\n",
              "      <td>177</td>\n",
              "      <td>7.1</td>\n",
              "    </tr>\n",
              "    <tr>\n",
              "      <th>1</th>\n",
              "      <td>Kabali</td>\n",
              "      <td>2016</td>\n",
              "      <td>137.0</td>\n",
              "      <td>Action | Crime | Drama</td>\n",
              "      <td>Emotional drama of the life story of a gangster</td>\n",
              "      <td>31</td>\n",
              "      <td>15</td>\n",
              "      <td>152</td>\n",
              "      <td>6.2</td>\n",
              "    </tr>\n",
              "    <tr>\n",
              "      <th>2</th>\n",
              "      <td>Mersal</td>\n",
              "      <td>2017</td>\n",
              "      <td>132.0</td>\n",
              "      <td>Action | Thriller</td>\n",
              "      <td>A visually beautiful and stylish entertainer w...</td>\n",
              "      <td>58</td>\n",
              "      <td>36</td>\n",
              "      <td>163</td>\n",
              "      <td>7.2</td>\n",
              "    </tr>\n",
              "    <tr>\n",
              "      <th>3</th>\n",
              "      <td>I</td>\n",
              "      <td>2015</td>\n",
              "      <td>174.0</td>\n",
              "      <td>Action | Drama | Thriller</td>\n",
              "      <td>A beauty and the beast story that is driven by...</td>\n",
              "      <td>15</td>\n",
              "      <td>8</td>\n",
              "      <td>196</td>\n",
              "      <td>7.4</td>\n",
              "    </tr>\n",
              "    <tr>\n",
              "      <th>4</th>\n",
              "      <td>Theri</td>\n",
              "      <td>2016</td>\n",
              "      <td>78.0</td>\n",
              "      <td>Action | Drama | Thriller</td>\n",
              "      <td>A pakka mass entertainer, same old revenge sto...</td>\n",
              "      <td>25</td>\n",
              "      <td>11</td>\n",
              "      <td>150</td>\n",
              "      <td>7.1</td>\n",
              "    </tr>\n",
              "    <tr>\n",
              "      <th>...</th>\n",
              "      <td>...</td>\n",
              "      <td>...</td>\n",
              "      <td>...</td>\n",
              "      <td>...</td>\n",
              "      <td>...</td>\n",
              "      <td>...</td>\n",
              "      <td>...</td>\n",
              "      <td>...</td>\n",
              "      <td>...</td>\n",
              "    </tr>\n",
              "    <tr>\n",
              "      <th>165</th>\n",
              "      <td>Moodar Koodam</td>\n",
              "      <td>2013</td>\n",
              "      <td>8.0</td>\n",
              "      <td>Comedy</td>\n",
              "      <td>Its a wonderful mixture of dark humor , satire...</td>\n",
              "      <td>5</td>\n",
              "      <td>3</td>\n",
              "      <td>155</td>\n",
              "      <td>7.7</td>\n",
              "    </tr>\n",
              "    <tr>\n",
              "      <th>166</th>\n",
              "      <td>Varuthapadatha Valibar Sangam</td>\n",
              "      <td>2013</td>\n",
              "      <td>6.0</td>\n",
              "      <td>Comedy</td>\n",
              "      <td>An out-and-out comedy entertainer that deliver...</td>\n",
              "      <td>13</td>\n",
              "      <td>5</td>\n",
              "      <td>158</td>\n",
              "      <td>6.7</td>\n",
              "    </tr>\n",
              "    <tr>\n",
              "      <th>167</th>\n",
              "      <td>Thanga Meengal</td>\n",
              "      <td>2013</td>\n",
              "      <td>5.0</td>\n",
              "      <td>Drama</td>\n",
              "      <td>Touted to be an emotionally tender story</td>\n",
              "      <td>19</td>\n",
              "      <td>14</td>\n",
              "      <td>138</td>\n",
              "      <td>7.9</td>\n",
              "    </tr>\n",
              "    <tr>\n",
              "      <th>168</th>\n",
              "      <td>Aadhalal Kadhal Seiveer</td>\n",
              "      <td>2013</td>\n",
              "      <td>4.0</td>\n",
              "      <td>Romance</td>\n",
              "      <td>A reality based movie that is must watch for p...</td>\n",
              "      <td>0</td>\n",
              "      <td>0</td>\n",
              "      <td>101</td>\n",
              "      <td>7.2</td>\n",
              "    </tr>\n",
              "    <tr>\n",
              "      <th>169</th>\n",
              "      <td>Maryan</td>\n",
              "      <td>2013</td>\n",
              "      <td>3.0</td>\n",
              "      <td>Adventure</td>\n",
              "      <td>A serious drama thriller with a strong and sou...</td>\n",
              "      <td>19</td>\n",
              "      <td>4</td>\n",
              "      <td>133</td>\n",
              "      <td>7.1</td>\n",
              "    </tr>\n",
              "  </tbody>\n",
              "</table>\n",
              "<p>170 rows × 9 columns</p>\n",
              "</div>\n",
              "    <div class=\"colab-df-buttons\">\n",
              "\n",
              "  <div class=\"colab-df-container\">\n",
              "    <button class=\"colab-df-convert\" onclick=\"convertToInteractive('df-5ae8106b-203d-4ea6-a8c0-8427f819e55e')\"\n",
              "            title=\"Convert this dataframe to an interactive table.\"\n",
              "            style=\"display:none;\">\n",
              "\n",
              "  <svg xmlns=\"http://www.w3.org/2000/svg\" height=\"24px\" viewBox=\"0 -960 960 960\">\n",
              "    <path d=\"M120-120v-720h720v720H120Zm60-500h600v-160H180v160Zm220 220h160v-160H400v160Zm0 220h160v-160H400v160ZM180-400h160v-160H180v160Zm440 0h160v-160H620v160ZM180-180h160v-160H180v160Zm440 0h160v-160H620v160Z\"/>\n",
              "  </svg>\n",
              "    </button>\n",
              "\n",
              "  <style>\n",
              "    .colab-df-container {\n",
              "      display:flex;\n",
              "      gap: 12px;\n",
              "    }\n",
              "\n",
              "    .colab-df-convert {\n",
              "      background-color: #E8F0FE;\n",
              "      border: none;\n",
              "      border-radius: 50%;\n",
              "      cursor: pointer;\n",
              "      display: none;\n",
              "      fill: #1967D2;\n",
              "      height: 32px;\n",
              "      padding: 0 0 0 0;\n",
              "      width: 32px;\n",
              "    }\n",
              "\n",
              "    .colab-df-convert:hover {\n",
              "      background-color: #E2EBFA;\n",
              "      box-shadow: 0px 1px 2px rgba(60, 64, 67, 0.3), 0px 1px 3px 1px rgba(60, 64, 67, 0.15);\n",
              "      fill: #174EA6;\n",
              "    }\n",
              "\n",
              "    .colab-df-buttons div {\n",
              "      margin-bottom: 4px;\n",
              "    }\n",
              "\n",
              "    [theme=dark] .colab-df-convert {\n",
              "      background-color: #3B4455;\n",
              "      fill: #D2E3FC;\n",
              "    }\n",
              "\n",
              "    [theme=dark] .colab-df-convert:hover {\n",
              "      background-color: #434B5C;\n",
              "      box-shadow: 0px 1px 3px 1px rgba(0, 0, 0, 0.15);\n",
              "      filter: drop-shadow(0px 1px 2px rgba(0, 0, 0, 0.3));\n",
              "      fill: #FFFFFF;\n",
              "    }\n",
              "  </style>\n",
              "\n",
              "    <script>\n",
              "      const buttonEl =\n",
              "        document.querySelector('#df-5ae8106b-203d-4ea6-a8c0-8427f819e55e button.colab-df-convert');\n",
              "      buttonEl.style.display =\n",
              "        google.colab.kernel.accessAllowed ? 'block' : 'none';\n",
              "\n",
              "      async function convertToInteractive(key) {\n",
              "        const element = document.querySelector('#df-5ae8106b-203d-4ea6-a8c0-8427f819e55e');\n",
              "        const dataTable =\n",
              "          await google.colab.kernel.invokeFunction('convertToInteractive',\n",
              "                                                    [key], {});\n",
              "        if (!dataTable) return;\n",
              "\n",
              "        const docLinkHtml = 'Like what you see? Visit the ' +\n",
              "          '<a target=\"_blank\" href=https://colab.research.google.com/notebooks/data_table.ipynb>data table notebook</a>'\n",
              "          + ' to learn more about interactive tables.';\n",
              "        element.innerHTML = '';\n",
              "        dataTable['output_type'] = 'display_data';\n",
              "        await google.colab.output.renderOutput(dataTable, element);\n",
              "        const docLink = document.createElement('div');\n",
              "        docLink.innerHTML = docLinkHtml;\n",
              "        element.appendChild(docLink);\n",
              "      }\n",
              "    </script>\n",
              "  </div>\n",
              "\n",
              "\n",
              "<div id=\"df-86b0c51d-c59d-469a-9c7c-d644f7bbe426\">\n",
              "  <button class=\"colab-df-quickchart\" onclick=\"quickchart('df-86b0c51d-c59d-469a-9c7c-d644f7bbe426')\"\n",
              "            title=\"Suggest charts\"\n",
              "            style=\"display:none;\">\n",
              "\n",
              "<svg xmlns=\"http://www.w3.org/2000/svg\" height=\"24px\"viewBox=\"0 0 24 24\"\n",
              "     width=\"24px\">\n",
              "    <g>\n",
              "        <path d=\"M19 3H5c-1.1 0-2 .9-2 2v14c0 1.1.9 2 2 2h14c1.1 0 2-.9 2-2V5c0-1.1-.9-2-2-2zM9 17H7v-7h2v7zm4 0h-2V7h2v10zm4 0h-2v-4h2v4z\"/>\n",
              "    </g>\n",
              "</svg>\n",
              "  </button>\n",
              "\n",
              "<style>\n",
              "  .colab-df-quickchart {\n",
              "      --bg-color: #E8F0FE;\n",
              "      --fill-color: #1967D2;\n",
              "      --hover-bg-color: #E2EBFA;\n",
              "      --hover-fill-color: #174EA6;\n",
              "      --disabled-fill-color: #AAA;\n",
              "      --disabled-bg-color: #DDD;\n",
              "  }\n",
              "\n",
              "  [theme=dark] .colab-df-quickchart {\n",
              "      --bg-color: #3B4455;\n",
              "      --fill-color: #D2E3FC;\n",
              "      --hover-bg-color: #434B5C;\n",
              "      --hover-fill-color: #FFFFFF;\n",
              "      --disabled-bg-color: #3B4455;\n",
              "      --disabled-fill-color: #666;\n",
              "  }\n",
              "\n",
              "  .colab-df-quickchart {\n",
              "    background-color: var(--bg-color);\n",
              "    border: none;\n",
              "    border-radius: 50%;\n",
              "    cursor: pointer;\n",
              "    display: none;\n",
              "    fill: var(--fill-color);\n",
              "    height: 32px;\n",
              "    padding: 0;\n",
              "    width: 32px;\n",
              "  }\n",
              "\n",
              "  .colab-df-quickchart:hover {\n",
              "    background-color: var(--hover-bg-color);\n",
              "    box-shadow: 0 1px 2px rgba(60, 64, 67, 0.3), 0 1px 3px 1px rgba(60, 64, 67, 0.15);\n",
              "    fill: var(--button-hover-fill-color);\n",
              "  }\n",
              "\n",
              "  .colab-df-quickchart-complete:disabled,\n",
              "  .colab-df-quickchart-complete:disabled:hover {\n",
              "    background-color: var(--disabled-bg-color);\n",
              "    fill: var(--disabled-fill-color);\n",
              "    box-shadow: none;\n",
              "  }\n",
              "\n",
              "  .colab-df-spinner {\n",
              "    border: 2px solid var(--fill-color);\n",
              "    border-color: transparent;\n",
              "    border-bottom-color: var(--fill-color);\n",
              "    animation:\n",
              "      spin 1s steps(1) infinite;\n",
              "  }\n",
              "\n",
              "  @keyframes spin {\n",
              "    0% {\n",
              "      border-color: transparent;\n",
              "      border-bottom-color: var(--fill-color);\n",
              "      border-left-color: var(--fill-color);\n",
              "    }\n",
              "    20% {\n",
              "      border-color: transparent;\n",
              "      border-left-color: var(--fill-color);\n",
              "      border-top-color: var(--fill-color);\n",
              "    }\n",
              "    30% {\n",
              "      border-color: transparent;\n",
              "      border-left-color: var(--fill-color);\n",
              "      border-top-color: var(--fill-color);\n",
              "      border-right-color: var(--fill-color);\n",
              "    }\n",
              "    40% {\n",
              "      border-color: transparent;\n",
              "      border-right-color: var(--fill-color);\n",
              "      border-top-color: var(--fill-color);\n",
              "    }\n",
              "    60% {\n",
              "      border-color: transparent;\n",
              "      border-right-color: var(--fill-color);\n",
              "    }\n",
              "    80% {\n",
              "      border-color: transparent;\n",
              "      border-right-color: var(--fill-color);\n",
              "      border-bottom-color: var(--fill-color);\n",
              "    }\n",
              "    90% {\n",
              "      border-color: transparent;\n",
              "      border-bottom-color: var(--fill-color);\n",
              "    }\n",
              "  }\n",
              "</style>\n",
              "\n",
              "  <script>\n",
              "    async function quickchart(key) {\n",
              "      const quickchartButtonEl =\n",
              "        document.querySelector('#' + key + ' button');\n",
              "      quickchartButtonEl.disabled = true;  // To prevent multiple clicks.\n",
              "      quickchartButtonEl.classList.add('colab-df-spinner');\n",
              "      try {\n",
              "        const charts = await google.colab.kernel.invokeFunction(\n",
              "            'suggestCharts', [key], {});\n",
              "      } catch (error) {\n",
              "        console.error('Error during call to suggestCharts:', error);\n",
              "      }\n",
              "      quickchartButtonEl.classList.remove('colab-df-spinner');\n",
              "      quickchartButtonEl.classList.add('colab-df-quickchart-complete');\n",
              "    }\n",
              "    (() => {\n",
              "      let quickchartButtonEl =\n",
              "        document.querySelector('#df-86b0c51d-c59d-469a-9c7c-d644f7bbe426 button');\n",
              "      quickchartButtonEl.style.display =\n",
              "        google.colab.kernel.accessAllowed ? 'block' : 'none';\n",
              "    })();\n",
              "  </script>\n",
              "</div>\n",
              "    </div>\n",
              "  </div>\n"
            ],
            "application/vnd.google.colaboratory.intrinsic+json": {
              "type": "dataframe",
              "variable_name": "data",
              "summary": "{\n  \"name\": \"data\",\n  \"rows\": 170,\n  \"fields\": [\n    {\n      \"column\": \"Movie_Name\",\n      \"properties\": {\n        \"dtype\": \"string\",\n        \"samples\": [\n          \"Aaru\",\n          \"PuliMurugan\",\n          \"Kaakha Kaakha\"\n        ],\n        \"num_unique_values\": 165,\n        \"semantic_type\": \"\",\n        \"description\": \"\"\n      }\n    },\n    {\n      \"column\": \"Year\",\n      \"properties\": {\n        \"dtype\": \"number\",\n        \"std\": 4,\n        \"min\": 1995,\n        \"max\": 2023,\n        \"samples\": [\n          2010,\n          2009,\n          2013\n        ],\n        \"num_unique_values\": 22,\n        \"semantic_type\": \"\",\n        \"description\": \"\"\n      }\n    },\n    {\n      \"column\": \"Budget\",\n      \"properties\": {\n        \"dtype\": \"number\",\n        \"std\": 32.94239836161787,\n        \"min\": 1.0,\n        \"max\": 174.0,\n        \"samples\": [\n          83.0,\n          132.0,\n          49.0\n        ],\n        \"num_unique_values\": 69,\n        \"semantic_type\": \"\",\n        \"description\": \"\"\n      }\n    },\n    {\n      \"column\": \"Genre\",\n      \"properties\": {\n        \"dtype\": \"category\",\n        \"samples\": [\n          \"Action | Biography | History\",\n          \"Action | Romance | Thriller\",\n          \"Romance\"\n        ],\n        \"num_unique_values\": 45,\n        \"semantic_type\": \"\",\n        \"description\": \"\"\n      }\n    },\n    {\n      \"column\": \"Review\",\n      \"properties\": {\n        \"dtype\": \"string\",\n        \"samples\": [\n          \"Technical finesse catering to commercial compulsions.\",\n          \"Well crafted action sequences, stylishly shot visuals, decent music and neat performances\",\n          \"A movie with intriguing plot but lacking suspense.\"\n        ],\n        \"num_unique_values\": 170,\n        \"semantic_type\": \"\",\n        \"description\": \"\"\n      }\n    },\n    {\n      \"column\": \"Nominations\",\n      \"properties\": {\n        \"dtype\": \"number\",\n        \"std\": 14,\n        \"min\": 0,\n        \"max\": 99,\n        \"samples\": [\n          36,\n          17,\n          25\n        ],\n        \"num_unique_values\": 37,\n        \"semantic_type\": \"\",\n        \"description\": \"\"\n      }\n    },\n    {\n      \"column\": \"Awards\",\n      \"properties\": {\n        \"dtype\": \"number\",\n        \"std\": 7,\n        \"min\": 0,\n        \"max\": 42,\n        \"samples\": [\n          17,\n          5,\n          25\n        ],\n        \"num_unique_values\": 25,\n        \"semantic_type\": \"\",\n        \"description\": \"\"\n      }\n    },\n    {\n      \"column\": \"RunTime\",\n      \"properties\": {\n        \"dtype\": \"number\",\n        \"std\": 19,\n        \"min\": 95,\n        \"max\": 196,\n        \"samples\": [\n          150,\n          120,\n          138\n        ],\n        \"num_unique_values\": 73,\n        \"semantic_type\": \"\",\n        \"description\": \"\"\n      }\n    },\n    {\n      \"column\": \"Rating\",\n      \"properties\": {\n        \"dtype\": \"number\",\n        \"std\": 1.1962711819187049,\n        \"min\": 2.6,\n        \"max\": 8.6,\n        \"samples\": [\n          3.5,\n          7.7,\n          8.1\n        ],\n        \"num_unique_values\": 46,\n        \"semantic_type\": \"\",\n        \"description\": \"\"\n      }\n    }\n  ]\n}"
            }
          },
          "metadata": {},
          "execution_count": 26
        }
      ],
      "source": [
        "import pandas as pd\n",
        "\n",
        "data = pd.read_csv(file_path)\n",
        "\n",
        "data"
      ]
    },
    {
      "cell_type": "code",
      "execution_count": null,
      "metadata": {
        "colab": {
          "base_uri": "https://localhost:8080/"
        },
        "id": "fuGN3NwvMCtF",
        "outputId": "96b6cd20-0208-4f65-ebc3-a623697aa3fd"
      },
      "outputs": [
        {
          "output_type": "stream",
          "name": "stdout",
          "text": [
            "Requirement already satisfied: textblob in /usr/local/lib/python3.10/dist-packages (0.17.1)\n",
            "Requirement already satisfied: nltk>=3.1 in /usr/local/lib/python3.10/dist-packages (from textblob) (3.8.1)\n",
            "Requirement already satisfied: click in /usr/local/lib/python3.10/dist-packages (from nltk>=3.1->textblob) (8.1.7)\n",
            "Requirement already satisfied: joblib in /usr/local/lib/python3.10/dist-packages (from nltk>=3.1->textblob) (1.3.2)\n",
            "Requirement already satisfied: regex>=2021.8.3 in /usr/local/lib/python3.10/dist-packages (from nltk>=3.1->textblob) (2023.12.25)\n",
            "Requirement already satisfied: tqdm in /usr/local/lib/python3.10/dist-packages (from nltk>=3.1->textblob) (4.66.2)\n"
          ]
        }
      ],
      "source": [
        "pip install textblob"
      ]
    },
    {
      "cell_type": "code",
      "execution_count": null,
      "metadata": {
        "colab": {
          "base_uri": "https://localhost:8080/"
        },
        "id": "hNXRRlSnMFwF",
        "outputId": "88e7eef3-36d9-48d0-8638-36b4c831e0f3"
      },
      "outputs": [
        {
          "output_type": "stream",
          "name": "stdout",
          "text": [
            "  Movie_Name  Year  Budget                      Genre  \\\n",
            "0   Enthiran  2010   132.0            Action | Sci-Fi   \n",
            "1     Kabali  2016   137.0     Action | Crime | Drama   \n",
            "2     Mersal  2017   132.0          Action | Thriller   \n",
            "3          I  2015   174.0  Action | Drama | Thriller   \n",
            "4      Theri  2016    78.0  Action | Drama | Thriller   \n",
            "\n",
            "                                              Review  Nominations  Awards  \\\n",
            "0  Best apocalyptic sci-fi-romcom-melodrama-dance...           38      25   \n",
            "1    Emotional drama of the life story of a gangster           31      15   \n",
            "2  A visually beautiful and stylish entertainer w...           58      36   \n",
            "3  A beauty and the beast story that is driven by...           15       8   \n",
            "4  A pakka mass entertainer, same old revenge sto...           25      11   \n",
            "\n",
            "   RunTime  Rating  Sentiment_Score Sentiment_Label  \n",
            "0      177     7.1            1.000        positive  \n",
            "1      152     6.2            0.000         neutral  \n",
            "2      163     7.2            0.675        positive  \n",
            "3      196     7.4            0.000         neutral  \n",
            "4      150     7.1            0.225        positive  \n"
          ]
        }
      ],
      "source": [
        "from textblob import TextBlob\n",
        "\n",
        "def analyze_sentiment(text):\n",
        "    # Creating a TextBlob object\n",
        "    blob = TextBlob(text)\n",
        "\n",
        "    # Getting the sentiment polarity (a value between -1 and 1)\n",
        "    sentiment_score = blob.sentiment.polarity\n",
        "\n",
        "    # Categorizing the sentiment\n",
        "    if sentiment_score > 0:\n",
        "        sentiment_label = 'positive'\n",
        "    elif sentiment_score == 0:\n",
        "        sentiment_label = 'neutral'\n",
        "    else:\n",
        "        sentiment_label = 'negative'\n",
        "\n",
        "    return pd.Series([sentiment_score, sentiment_label])\n",
        "\n",
        "data[['Sentiment_Score','Sentiment_Label']] = data['Review'].apply(analyze_sentiment)\n",
        "\n",
        "print(data.head())\n"
      ]
    },
    {
      "cell_type": "code",
      "execution_count": null,
      "metadata": {
        "id": "5VfTUfb8OUpc"
      },
      "outputs": [],
      "source": [
        "data.to_csv('Movie_dataset.csv', index=False)"
      ]
    },
    {
      "cell_type": "code",
      "execution_count": null,
      "metadata": {
        "id": "9IDLtHgCR1J2"
      },
      "outputs": [],
      "source": [
        "data = pd.read_csv('Movie_dataset.csv')"
      ]
    },
    {
      "cell_type": "code",
      "execution_count": null,
      "metadata": {
        "id": "wUCDnSjqSnoW",
        "colab": {
          "base_uri": "https://localhost:8080/"
        },
        "outputId": "c964f40a-bbb5-40b2-a35a-e256fc0b0f39"
      },
      "outputs": [
        {
          "output_type": "stream",
          "name": "stdout",
          "text": [
            "<class 'pandas.core.frame.DataFrame'>\n",
            "RangeIndex: 170 entries, 0 to 169\n",
            "Data columns (total 11 columns):\n",
            " #   Column           Non-Null Count  Dtype  \n",
            "---  ------           --------------  -----  \n",
            " 0   Movie_Name       170 non-null    object \n",
            " 1   Year             170 non-null    int64  \n",
            " 2   Budget           170 non-null    float64\n",
            " 3   Genre            170 non-null    object \n",
            " 4   Review           170 non-null    object \n",
            " 5   Nominations      170 non-null    int64  \n",
            " 6   Awards           170 non-null    int64  \n",
            " 7   RunTime          170 non-null    int64  \n",
            " 8   Rating           170 non-null    float64\n",
            " 9   Sentiment_Score  170 non-null    float64\n",
            " 10  Sentiment_Label  170 non-null    object \n",
            "dtypes: float64(3), int64(4), object(4)\n",
            "memory usage: 14.7+ KB\n"
          ]
        }
      ],
      "source": [
        "data.info()"
      ]
    },
    {
      "cell_type": "code",
      "execution_count": null,
      "metadata": {
        "colab": {
          "base_uri": "https://localhost:8080/"
        },
        "id": "C-N2BApukm3u",
        "outputId": "6e08c1c1-4f34-464f-db15-238d06f457ab"
      },
      "outputs": [
        {
          "output_type": "execute_result",
          "data": {
            "text/plain": [
              "array(['Action | Sci-Fi', 'Action | Crime | Drama', 'Action | Thriller',\n",
              "       'Action | Drama | Thriller', 'Action | Drama',\n",
              "       'Action | Comedy | Drama', 'Comedy | Horror',\n",
              "       'Action | Sci-Fi | Thriller',\n",
              "       'Action | Adventure | Sci-Fi | Thriller',\n",
              "       'Action | Adventure | Fantasy',\n",
              "       'Action | Drama | Mystery | Thriller', 'Action | Comedy | Crime',\n",
              "       'Comedy | Drama', 'Action | Comedy | Fantasy | Horror | Mystery',\n",
              "       'Action | Crime | Thriller', 'Animation | Action', 'Action',\n",
              "       'Comedy | Romance', 'Action | Comedy | Horror',\n",
              "       'Action | Comedy | Fantasy | Horror', 'Action | Comedy',\n",
              "       'Action | Comedy | Drama | Romance', 'Comedy | Drama | Romance',\n",
              "       'Action | Adventure | Drama | Thriller', 'Action | Crime',\n",
              "       'Action | Romance | Thriller', 'Romance',\n",
              "       'Drama | Family | Musical', 'Drama | Musical | Romance',\n",
              "       'Action | Drama | Fantasy | Sci-Fi', 'Horror', 'Action | Romance',\n",
              "       'Drama | Thriller', 'Musical | Romance| Thriller',\n",
              "       'Action | Drama | Romance', 'Drama | Romance',\n",
              "       'Comedy | Sci-fi | Thriller', 'Comedy', 'Drama',\n",
              "       'Action | Biography | History', 'Action | Adventure',\n",
              "       'Mystery | Thriller', 'Thriller', 'Crime', 'Adventure'],\n",
              "      dtype=object)"
            ]
          },
          "metadata": {},
          "execution_count": 30
        }
      ],
      "source": [
        "unique_values = data['Genre'].unique()\n",
        "unique_values"
      ]
    },
    {
      "cell_type": "code",
      "execution_count": null,
      "metadata": {
        "colab": {
          "base_uri": "https://localhost:8080/"
        },
        "id": "4LGhNV3cpvBD",
        "outputId": "ff940606-f7f3-48d3-bec0-f4419f2d335f"
      },
      "outputs": [
        {
          "output_type": "stream",
          "name": "stdout",
          "text": [
            "                        Movie_Name  Year  Budget  \\\n",
            "0                         Enthiran  2010   132.0   \n",
            "1                           Kabali  2016   137.0   \n",
            "2                           Mersal  2017   132.0   \n",
            "3                                I  2015   174.0   \n",
            "4                            Theri  2016    78.0   \n",
            "..                             ...   ...     ...   \n",
            "165                  Moodar Koodam  2013     8.0   \n",
            "166  Varuthapadatha Valibar Sangam  2013     6.0   \n",
            "167                 Thanga Meengal  2013     5.0   \n",
            "168        Aadhalal Kadhal Seiveer  2013     4.0   \n",
            "169                         Maryan  2013     3.0   \n",
            "\n",
            "                                                Review  Nominations  Awards  \\\n",
            "0    Best apocalyptic sci-fi-romcom-melodrama-dance...           38      25   \n",
            "1      Emotional drama of the life story of a gangster           31      15   \n",
            "2    A visually beautiful and stylish entertainer w...           58      36   \n",
            "3    A beauty and the beast story that is driven by...           15       8   \n",
            "4    A pakka mass entertainer, same old revenge sto...           25      11   \n",
            "..                                                 ...          ...     ...   \n",
            "165  Its a wonderful mixture of dark humor , satire...            5       3   \n",
            "166  An out-and-out comedy entertainer that deliver...           13       5   \n",
            "167           Touted to be an emotionally tender story           19      14   \n",
            "168  A reality based movie that is must watch for p...            0       0   \n",
            "169  A serious drama thriller with a strong and sou...           19       4   \n",
            "\n",
            "     RunTime  Rating  Sentiment_Score Sentiment_Label  ...  Comedy  Adventure  \\\n",
            "0        177     7.1         1.000000        positive  ...       0          0   \n",
            "1        152     6.2         0.000000         neutral  ...       0          0   \n",
            "2        163     7.2         0.675000        positive  ...       0          0   \n",
            "3        196     7.4         0.000000         neutral  ...       0          0   \n",
            "4        150     7.1         0.225000        positive  ...       0          0   \n",
            "..       ...     ...              ...             ...  ...     ...        ...   \n",
            "165      155     7.7         0.223333        positive  ...       1          0   \n",
            "166      158     6.7         0.000000         neutral  ...       1          0   \n",
            "167      138     7.9         0.000000         neutral  ...       0          0   \n",
            "168      101     7.2         0.000000         neutral  ...       0          0   \n",
            "169      133     7.1         0.200000        positive  ...       0          1   \n",
            "\n",
            "     Mystery  Fantasy  Horror  Romance  Musical  Family  Biography  History  \n",
            "0          0        0       0        0        0       0          0        0  \n",
            "1          0        0       0        0        0       0          0        0  \n",
            "2          0        0       0        0        0       0          0        0  \n",
            "3          0        0       0        0        0       0          0        0  \n",
            "4          0        0       0        0        0       0          0        0  \n",
            "..       ...      ...     ...      ...      ...     ...        ...      ...  \n",
            "165        0        0       0        0        0       0          0        0  \n",
            "166        0        0       0        0        0       0          0        0  \n",
            "167        0        0       0        0        0       0          0        0  \n",
            "168        0        0       0        1        0       0          0        0  \n",
            "169        0        0       0        0        0       0          0        0  \n",
            "\n",
            "[170 rows x 25 columns]\n"
          ]
        }
      ],
      "source": [
        "genres_list = ['Action', 'Sci-Fi', 'Crime', 'Drama', 'Thriller', 'Comedy', 'Adventure', 'Mystery', 'Fantasy', 'Horror', 'Romance','Musical','Family','Biography','History']\n",
        "\n",
        "# Creating binary columns for each genre\n",
        "for genre in genres_list:\n",
        "    data[genre] = data['Genre'].apply(lambda x: 1 if genre in x else 0)\n",
        "\n",
        "# Dropping the original 'Genre' column\n",
        "data.drop('Genre', axis=1, inplace=True)\n",
        "\n",
        "# Displaying the resulting DataFrame\n",
        "print(data)"
      ]
    },
    {
      "cell_type": "code",
      "execution_count": null,
      "metadata": {
        "id": "H1ycmebUWlFz"
      },
      "outputs": [],
      "source": [
        "data = data.dropna()"
      ]
    },
    {
      "cell_type": "code",
      "source": [
        "data = data.drop('Movie_Name',axis = True)"
      ],
      "metadata": {
        "id": "8wekmImsc7kw"
      },
      "execution_count": null,
      "outputs": []
    },
    {
      "cell_type": "code",
      "source": [
        "data = data.drop('Review',axis = True)"
      ],
      "metadata": {
        "id": "nZyybP_FdFNd"
      },
      "execution_count": null,
      "outputs": []
    },
    {
      "cell_type": "code",
      "source": [
        "data = data.drop('Sentiment_Label',axis = True)"
      ],
      "metadata": {
        "id": "qQcyNPZSdH2f"
      },
      "execution_count": null,
      "outputs": []
    },
    {
      "cell_type": "code",
      "source": [
        "data.info()"
      ],
      "metadata": {
        "colab": {
          "base_uri": "https://localhost:8080/"
        },
        "id": "khDN1BhXdTxU",
        "outputId": "942cb460-cc6f-4bf5-f585-09f31740b3e8"
      },
      "execution_count": null,
      "outputs": [
        {
          "output_type": "stream",
          "name": "stdout",
          "text": [
            "<class 'pandas.core.frame.DataFrame'>\n",
            "RangeIndex: 170 entries, 0 to 169\n",
            "Data columns (total 22 columns):\n",
            " #   Column           Non-Null Count  Dtype  \n",
            "---  ------           --------------  -----  \n",
            " 0   Year             170 non-null    int64  \n",
            " 1   Budget           170 non-null    float64\n",
            " 2   Nominations      170 non-null    int64  \n",
            " 3   Awards           170 non-null    int64  \n",
            " 4   RunTime          170 non-null    int64  \n",
            " 5   Rating           170 non-null    float64\n",
            " 6   Sentiment_Score  170 non-null    float64\n",
            " 7   Action           170 non-null    int64  \n",
            " 8   Sci-Fi           170 non-null    int64  \n",
            " 9   Crime            170 non-null    int64  \n",
            " 10  Drama            170 non-null    int64  \n",
            " 11  Thriller         170 non-null    int64  \n",
            " 12  Comedy           170 non-null    int64  \n",
            " 13  Adventure        170 non-null    int64  \n",
            " 14  Mystery          170 non-null    int64  \n",
            " 15  Fantasy          170 non-null    int64  \n",
            " 16  Horror           170 non-null    int64  \n",
            " 17  Romance          170 non-null    int64  \n",
            " 18  Musical          170 non-null    int64  \n",
            " 19  Family           170 non-null    int64  \n",
            " 20  Biography        170 non-null    int64  \n",
            " 21  History          170 non-null    int64  \n",
            "dtypes: float64(3), int64(19)\n",
            "memory usage: 29.3 KB\n"
          ]
        }
      ]
    },
    {
      "cell_type": "code",
      "execution_count": null,
      "metadata": {
        "colab": {
          "base_uri": "https://localhost:8080/"
        },
        "id": "50-R53yBT82l",
        "outputId": "8efa5605-bf7f-4047-dd10-2156fb3389e1"
      },
      "outputs": [
        {
          "output_type": "stream",
          "name": "stdout",
          "text": [
            "Mean Squared Error: 0.6005312732237762\n",
            "R-squared: 0.528451194235372\n"
          ]
        }
      ],
      "source": [
        "from sklearn.model_selection import train_test_split\n",
        "from sklearn.linear_model import LinearRegression\n",
        "from sklearn.metrics import mean_squared_error\n",
        "from sklearn.metrics import r2_score\n",
        "\n",
        "# Defining features (X) and target variable (y)\n",
        "X = data.drop('Rating', axis = True)\n",
        "y = data['Rating']\n",
        "\n",
        "# Splitting the data into training and testing sets\n",
        "X_train, X_test, y_train, y_test = train_test_split(X, y, test_size=0.2, random_state=42)\n",
        "\n",
        "# Training a linear regression model\n",
        "model = LinearRegression()\n",
        "model.fit(X_train, y_train)\n",
        "\n",
        "# Making predictions on the testing set\n",
        "y_pred = model.predict(X_test)\n",
        "\n",
        "# Evaluating the model\n",
        "mse = mean_squared_error(y_test, y_pred)\n",
        "print(f'Mean Squared Error: {mse}')\n",
        "\n",
        "# Calculating R-squared value\n",
        "r2 = r2_score(y_test, y_pred)\n",
        "print(f'R-squared: {r2}')"
      ]
    }
  ],
  "metadata": {
    "colab": {
      "provenance": []
    },
    "kernelspec": {
      "display_name": "Python 3",
      "name": "python3"
    },
    "language_info": {
      "name": "python"
    }
  },
  "nbformat": 4,
  "nbformat_minor": 0
}